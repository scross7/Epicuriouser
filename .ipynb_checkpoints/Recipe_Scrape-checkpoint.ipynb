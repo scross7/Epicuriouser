{
 "cells": [
  {
   "cell_type": "code",
   "execution_count": 2,
   "metadata": {},
   "outputs": [],
   "source": [
    "from splinter import Browser\n",
    "from bs4 import BeautifulSoup as bs\n",
    "import time"
   ]
  },
  {
   "cell_type": "code",
   "execution_count": 3,
   "metadata": {},
   "outputs": [],
   "source": [
    "executable_path = {\"executable_path\": \"/usr/local/bin/chromedriver\"}\n",
    "browser = Browser(\"chrome\", **executable_path, headless=False)\n",
    "\n",
    "### Break this up into root and stem url ###\n",
    "### investigate ad blocking and cache clearing options for faster scraping ###\n",
    "\n",
    "# Visit epicurious.com\n",
    "url = \"https://epicurious.com/recipes/food/views/overnight-porridge-congee-chao-andrea-nguyen-vietnamese-rice-soup/\"\n",
    "browser.visit(url)\n",
    "\n",
    "time.sleep(1)\n",
    "\n",
    "# Scrape page into Soup\n",
    "html = browser.html\n",
    "soup = bs(html, \"html.parser\")"
   ]
  },
  {
   "cell_type": "code",
   "execution_count": 4,
   "metadata": {},
   "outputs": [
    {
     "data": {
      "text/plain": [
       "'Super-Simple Overnight Porridge '"
      ]
     },
     "execution_count": 4,
     "metadata": {},
     "output_type": "execute_result"
    }
   ],
   "source": [
    "title = soup.find('div', class_='title-source').h1.text\n",
    "title"
   ]
  },
  {
   "cell_type": "code",
   "execution_count": 5,
   "metadata": {},
   "outputs": [
    {
     "data": {
      "text/plain": [
       "'Andrea Nguyen'"
      ]
     },
     "execution_count": 5,
     "metadata": {},
     "output_type": "execute_result"
    }
   ],
   "source": [
    "author = soup.find(class_='contributor')['title']\n",
    "author"
   ]
  },
  {
   "cell_type": "code",
   "execution_count": 6,
   "metadata": {},
   "outputs": [
    {
     "data": {
      "text/plain": [
       "'November 2019'"
      ]
     },
     "execution_count": 6,
     "metadata": {},
     "output_type": "execute_result"
    }
   ],
   "source": [
    "date = soup.find(class_=\"pub-date\").text\n",
    "date"
   ]
  },
  {
   "cell_type": "code",
   "execution_count": 7,
   "metadata": {},
   "outputs": [],
   "source": [
    "# parse month"
   ]
  },
  {
   "cell_type": "code",
   "execution_count": 8,
   "metadata": {},
   "outputs": [],
   "source": [
    "# parse year "
   ]
  },
  {
   "cell_type": "code",
   "execution_count": 9,
   "metadata": {},
   "outputs": [
    {
     "data": {
      "text/plain": [
       "0.0"
      ]
     },
     "execution_count": 9,
     "metadata": {},
     "output_type": "execute_result"
    }
   ],
   "source": [
    "rating = float(soup.find(class_=\"user-interactions\").meta['content'])\n",
    "rating"
   ]
  },
  {
   "cell_type": "code",
   "execution_count": 10,
   "metadata": {},
   "outputs": [
    {
     "data": {
      "text/plain": [
       "0"
      ]
     },
     "execution_count": 10,
     "metadata": {},
     "output_type": "execute_result"
    }
   ],
   "source": [
    "reviews = int(soup.find(class_=\"reviews-count\").text)\n",
    "reviews"
   ]
  },
  {
   "cell_type": "code",
   "execution_count": 11,
   "metadata": {},
   "outputs": [
    {
     "data": {
      "text/plain": [
       "'0%'"
      ]
     },
     "execution_count": 11,
     "metadata": {},
     "output_type": "execute_result"
    }
   ],
   "source": [
    "# cast to int\n",
    "make_again = soup.find('div', class_=\"prepare-again-rating\").span.text\n",
    "make_again"
   ]
  },
  {
   "cell_type": "code",
   "execution_count": 12,
   "metadata": {},
   "outputs": [
    {
     "data": {
      "text/plain": [
       "'30 minutes, plus overnight soaking'"
      ]
     },
     "execution_count": 12,
     "metadata": {},
     "output_type": "execute_result"
    }
   ],
   "source": [
    "active_time = soup.find('dd', class_=\"active-time\").text\n",
    "active_time"
   ]
  },
  {
   "cell_type": "code",
   "execution_count": 13,
   "metadata": {},
   "outputs": [
    {
     "data": {
      "text/plain": [
       "[<li class=\"ingredient\" itemprop=\"ingredients\">2 cups packed cooked white rice</li>,\n",
       " <li class=\"ingredient\" itemprop=\"ingredients\">About 5 cups chicken stock, vegetable stock, or store-bought chicken or vegetable broth</li>,\n",
       " <li class=\"ingredient\" itemprop=\"ingredients\">2 cups water, plus more as needed</li>,\n",
       " <li class=\"ingredient\" itemprop=\"ingredients\">3 thick slices unpeeled ginger, bruised</li>,\n",
       " <li class=\"ingredient\" itemprop=\"ingredients\">2 green onions, white parts kept whole, green parts cut into thin rings</li>,\n",
       " <li class=\"ingredient\" itemprop=\"ingredients\">About ½ teaspoon fine sea salt</li>,\n",
       " <li class=\"ingredient\" itemprop=\"ingredients\">Recently ground black pepper (optional)</li>]"
      ]
     },
     "execution_count": 13,
     "metadata": {},
     "output_type": "execute_result"
    }
   ],
   "source": [
    "# find the number of li and then iterate through object. Append each itteration to the dictionary/list ingredients\n",
    "ingredients = soup.find_all('li', class_=\"ingredient\")\n",
    "ingredients"
   ]
  },
  {
   "cell_type": "code",
   "execution_count": 14,
   "metadata": {},
   "outputs": [
    {
     "data": {
      "text/plain": [
       "7"
      ]
     },
     "execution_count": 14,
     "metadata": {},
     "output_type": "execute_result"
    }
   ],
   "source": [
    "# len counts objects in between commas \n",
    "#  ... how do you know how many objects are in this array? \n",
    "# Count number of times \"itemprop\" appears?\n",
    "# make an array or dictionary of this list?\n",
    "# len is the number of ingredients (new variable)?\n",
    "\n",
    "ingredient_len = len(ingredients)\n",
    "ingredient_len"
   ]
  },
  {
   "cell_type": "code",
   "execution_count": 15,
   "metadata": {},
   "outputs": [
    {
     "data": {
      "text/plain": [
       "'2 cups packed cooked white rice'"
      ]
     },
     "execution_count": 15,
     "metadata": {},
     "output_type": "execute_result"
    }
   ],
   "source": [
    "ingredients = soup.find_all('li', class_=\"ingredient\")[0].text\n",
    "ingredients"
   ]
  },
  {
   "cell_type": "code",
   "execution_count": 16,
   "metadata": {},
   "outputs": [],
   "source": [
    "# NOT USED >> no planned analysis with this feature\n",
    "# special_equip = soup.find()"
   ]
  },
  {
   "cell_type": "code",
   "execution_count": 17,
   "metadata": {},
   "outputs": [],
   "source": [
    "# NOT USED >> no planned analysis with this feature\n",
    "# prep = soup.find()"
   ]
  },
  {
   "cell_type": "code",
   "execution_count": 18,
   "metadata": {},
   "outputs": [],
   "source": [
    "### Can't look up all nutriotional values by attributes ... maybe use nth child?\n",
    "# additional-info-panels > div.edamam-nutrition.panel > div.nutrition.content > ul > li:nth-child(7) > span.nutri-data\n",
    "# there are 10 total values in the list\n",
    "# maybe validate against text value from tag?\n",
    "\n",
    "# would it be useful to nest all nutritional information in a list/dictionary? nutrition = { calories : cal, etc }"
   ]
  },
  {
   "cell_type": "code",
   "execution_count": 19,
   "metadata": {},
   "outputs": [
    {
     "data": {
      "text/plain": [
       "127"
      ]
     },
     "execution_count": 19,
     "metadata": {},
     "output_type": "execute_result"
    }
   ],
   "source": [
    "# cast to int\n",
    "cal = int(soup.find('span', class_=\"nutri-data\", itemprop=\"calories\").text)\n",
    "cal"
   ]
  },
  {
   "cell_type": "code",
   "execution_count": 20,
   "metadata": {},
   "outputs": [
    {
     "data": {
      "text/plain": [
       "'28 g(9%)'"
      ]
     },
     "execution_count": 20,
     "metadata": {},
     "output_type": "execute_result"
    }
   ],
   "source": [
    "# parse into two variables and cast types\n",
    "carb = soup.find('span', class_=\"nutri-data\", itemprop=\"carbohydrateContent\").text\n",
    "carb"
   ]
  },
  {
   "cell_type": "code",
   "execution_count": 21,
   "metadata": {},
   "outputs": [
    {
     "data": {
      "text/plain": [
       "'0 g(1%)'"
      ]
     },
     "execution_count": 21,
     "metadata": {},
     "output_type": "execute_result"
    }
   ],
   "source": [
    "fat = soup.find('span', class_=\"nutri-data\", itemprop=\"fatContent\").text\n",
    "fat"
   ]
  },
  {
   "cell_type": "code",
   "execution_count": 22,
   "metadata": {},
   "outputs": [
    {
     "data": {
      "text/plain": [
       "'2 g(5%)'"
      ]
     },
     "execution_count": 22,
     "metadata": {},
     "output_type": "execute_result"
    }
   ],
   "source": [
    "protein = soup.find('span', class_=\"nutri-data\", itemprop=\"proteinContent\").text\n",
    "protein"
   ]
  },
  {
   "cell_type": "code",
   "execution_count": 23,
   "metadata": {},
   "outputs": [
    {
     "data": {
      "text/plain": [
       "'0 g(0%)'"
      ]
     },
     "execution_count": 23,
     "metadata": {},
     "output_type": "execute_result"
    }
   ],
   "source": [
    "sat_fat = soup.find('span', class_=\"nutri-data\", itemprop=\"saturatedFatContent\").text\n",
    "sat_fat"
   ]
  },
  {
   "cell_type": "code",
   "execution_count": 24,
   "metadata": {},
   "outputs": [
    {
     "data": {
      "text/plain": [
       "'342 mg(14%)'"
      ]
     },
     "execution_count": 24,
     "metadata": {},
     "output_type": "execute_result"
    }
   ],
   "source": [
    "sodium = soup.find('span', class_=\"nutri-data\", itemprop=\"sodiumContent\").text\n",
    "sodium"
   ]
  },
  {
   "cell_type": "code",
   "execution_count": 25,
   "metadata": {},
   "outputs": [
    {
     "data": {
      "text/plain": [
       "'0 g'"
      ]
     },
     "execution_count": 25,
     "metadata": {},
     "output_type": "execute_result"
    }
   ],
   "source": [
    "# no attr = itemprop\n",
    "polyunsat_fat = soup.findAll('span', class_=\"nutri-data\")[6].text\n",
    "polyunsat_fat"
   ]
  },
  {
   "cell_type": "code",
   "execution_count": 26,
   "metadata": {},
   "outputs": [
    {
     "data": {
      "text/plain": [
       "'1 g(3%)'"
      ]
     },
     "execution_count": 26,
     "metadata": {},
     "output_type": "execute_result"
    }
   ],
   "source": [
    "fiber = soup.find('span', class_=\"nutri-data\", itemprop=\"fiberContent\").text\n",
    "fiber"
   ]
  },
  {
   "cell_type": "code",
   "execution_count": 27,
   "metadata": {},
   "outputs": [
    {
     "data": {
      "text/plain": [
       "'0 g'"
      ]
     },
     "execution_count": 27,
     "metadata": {},
     "output_type": "execute_result"
    }
   ],
   "source": [
    "# no attr = itemprop\n",
    "monounsat_fat = soup.findAll('span', class_=\"nutri-data\")[8].text\n",
    "monounsat_fat\n",
    "    \n",
    "    "
   ]
  },
  {
   "cell_type": "code",
   "execution_count": 28,
   "metadata": {},
   "outputs": [
    {
     "data": {
      "text/plain": [
       "''"
      ]
     },
     "execution_count": 28,
     "metadata": {},
     "output_type": "execute_result"
    }
   ],
   "source": [
    "# no attr = itemprop\n",
    "cholesterol = soup.findAll('span', class_=\"nutri-data\")[9].text\n",
    "cholesterol"
   ]
  },
  {
   "cell_type": "code",
   "execution_count": 30,
   "metadata": {},
   "outputs": [
    {
     "data": {
      "text/plain": [
       "'per serving (4 servings)'"
      ]
     },
     "execution_count": 30,
     "metadata": {},
     "output_type": "execute_result"
    }
   ],
   "source": [
    "# need to parse out number\n",
    "servings = soup.find(class_=\"per-serving\").text\n",
    "servings"
   ]
  },
  {
   "cell_type": "code",
   "execution_count": 33,
   "metadata": {},
   "outputs": [],
   "source": [
    "# NOT USED >> no planned analysis with this feature\n",
    "# menus = soup.find()"
   ]
  },
  {
   "cell_type": "raw",
   "metadata": {},
   "source": [
    "<dl class=\"tags\">\n",
    "<a href=\"/ingredient/rice\"><dt itemprop=\"recipeCategory\">Rice</dt></a>\n",
    "<a href=\"/cuisine/vietnamese\"><dt itemprop=\"recipeCuisine\">Vietnamese</dt></a>\n",
    "<a href=\"/type/soup-stew\"><dt itemprop=\"recipeCategory\">Soup/Stew</dt></a>\n",
    "<a href=\"/ingredient/ginger\"><dt itemprop=\"recipeCategory\">Ginger</dt></a>\n",
    "<a href=\"/ingredient/green-onion-scallion\"><dt itemprop=\"recipeCategory\">Green Onion/Scallion</dt></a>\n",
    "<a href=\"/special-consideration/healthy\"><dt itemprop=\"recipeCategory\">Healthy</dt></a>\n",
    "<a href=\"/meal/breakfast\"><dt itemprop=\"recipeCategory\">Breakfast</dt></a>\n",
    "<a href=\"/meal/lunch\"><dt itemprop=\"recipeCategory\">Lunch</dt></a></dl>\n",
    "\n",
    "Two pieces of info here:\n",
    "href - classifications (sep by \"/\") >> not if two is the max number of breadcrumbs, looks like it maybe and \"-\" is used as a smaller subdivision (see soup-stew, line 3)\n",
    "itemprop - \"Category\" or \"Cuisine\" >> not sure if these are the only two options here\n",
    "\n",
    "Questions:\n",
    "How is this info used/managed by the site? I think this may direct how we decide to store this information.\n",
    "tags = {href: list1, itemprop: var1} where list1 uses some storage to maintain the structure of information\n",
    "list1 = { breadcrumb1 : bc1, ..."
   ]
  },
  {
   "cell_type": "code",
   "execution_count": null,
   "metadata": {},
   "outputs": [],
   "source": [
    "# tags = soup.find()"
   ]
  },
  {
   "cell_type": "code",
   "execution_count": null,
   "metadata": {},
   "outputs": [],
   "source": [
    "# NOT USED >> no planned analysis with this feature\n",
    "# related_content = soup.find()"
   ]
  },
  {
   "cell_type": "code",
   "execution_count": null,
   "metadata": {},
   "outputs": [],
   "source": [
    "# features = [title, author, date, rating, reviews, make_again, ingredients, special_equip, prep ...] "
   ]
  },
  {
   "cell_type": "code",
   "execution_count": 166,
   "metadata": {},
   "outputs": [],
   "source": [
    "# Store data in a dictionary\n",
    "recipe_data = {\n",
    "    \"title\" : title,             # string\n",
    "    \"author\" : author,           # string\n",
    "    \"date\" : date,               # \n",
    "#     \"month\" : month,           # string\n",
    "#     \"year\" : year,             # int\n",
    "    \"rating\" : rating,           # float\n",
    "    \"reviews\" : reviews,         # int\n",
    "    \"make_again\" : make_again,   # int (not sure if this should be float?)\n",
    "    \"active_time\" : active_time, # string\n",
    "#     \"ingredient_len\" : ingredient_len, \n",
    "#     \"ingredients\" : ingredients,\n",
    "    \"cal\" : cal,\n",
    "    \"carb\" : carb,\n",
    "    \"fat\" : fat,\n",
    "    \"protein\" : protein,\n",
    "    \"sat_fat\" : sat_fat,\n",
    "    \"sodium\" : sodium,\n",
    "}"
   ]
  },
  {
   "cell_type": "code",
   "execution_count": 31,
   "metadata": {},
   "outputs": [
    {
     "ename": "NameError",
     "evalue": "name 'recipe_data' is not defined",
     "output_type": "error",
     "traceback": [
      "\u001b[0;31m---------------------------------------------------------------------------\u001b[0m",
      "\u001b[0;31mNameError\u001b[0m                                 Traceback (most recent call last)",
      "\u001b[0;32m<ipython-input-31-fc6aaa5bdd78>\u001b[0m in \u001b[0;36m<module>\u001b[0;34m\u001b[0m\n\u001b[1;32m      1\u001b[0m \u001b[0;31m# look at how pretty this is :)\u001b[0m\u001b[0;34m\u001b[0m\u001b[0;34m\u001b[0m\u001b[0;34m\u001b[0m\u001b[0m\n\u001b[1;32m      2\u001b[0m \u001b[0;34m\u001b[0m\u001b[0m\n\u001b[0;32m----> 3\u001b[0;31m \u001b[0mrecipe_data\u001b[0m\u001b[0;34m\u001b[0m\u001b[0;34m\u001b[0m\u001b[0m\n\u001b[0m",
      "\u001b[0;31mNameError\u001b[0m: name 'recipe_data' is not defined"
     ]
    }
   ],
   "source": [
    "# look at how pretty this is :)\n",
    "\n",
    "recipe_data"
   ]
  },
  {
   "cell_type": "code",
   "execution_count": 10,
   "metadata": {},
   "outputs": [],
   "source": [
    "# Close the browser after scraping\n",
    "browser.quit()"
   ]
  }
 ],
 "metadata": {
  "kernelspec": {
   "display_name": "Conda [PythonData]",
   "language": "python",
   "name": "pythondata"
  },
  "language_info": {
   "codemirror_mode": {
    "name": "ipython",
    "version": 3
   },
   "file_extension": ".py",
   "mimetype": "text/x-python",
   "name": "python",
   "nbconvert_exporter": "python",
   "pygments_lexer": "ipython3",
   "version": "3.6.9"
  }
 },
 "nbformat": 4,
 "nbformat_minor": 2
}
