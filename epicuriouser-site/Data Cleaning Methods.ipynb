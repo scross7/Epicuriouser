{
 "cells": [
  {
   "cell_type": "code",
   "execution_count": 50,
   "metadata": {},
   "outputs": [],
   "source": [
    "import pandas as pd  \n",
    "import numpy as np\n",
    "import matplotlib\n",
    "import matplotlib.pyplot as plt  \n",
    "import seaborn as seabornInstance \n",
    "from sklearn.model_selection import train_test_split \n",
    "from sklearn.linear_model import LinearRegression\n",
    "from sklearn import metrics\n",
    "%matplotlib inline\n",
    "import warnings; warnings.simplefilter('ignore')\n",
    "from datetime import date\n",
    "from datetime import datetime"
   ]
  },
  {
   "cell_type": "markdown",
   "metadata": {},
   "source": [
    "### Original Data"
   ]
  },
  {
   "cell_type": "code",
   "execution_count": 2,
   "metadata": {},
   "outputs": [],
   "source": [
    "df_original = pd.read_json ('full_format_recipes.json')"
   ]
  },
  {
   "cell_type": "code",
   "execution_count": 3,
   "metadata": {},
   "outputs": [
    {
     "data": {
      "text/html": [
       "<div>\n",
       "<style scoped>\n",
       "    .dataframe tbody tr th:only-of-type {\n",
       "        vertical-align: middle;\n",
       "    }\n",
       "\n",
       "    .dataframe tbody tr th {\n",
       "        vertical-align: top;\n",
       "    }\n",
       "\n",
       "    .dataframe thead th {\n",
       "        text-align: right;\n",
       "    }\n",
       "</style>\n",
       "<table border=\"1\" class=\"dataframe\">\n",
       "  <thead>\n",
       "    <tr style=\"text-align: right;\">\n",
       "      <th></th>\n",
       "      <th>calories</th>\n",
       "      <th>categories</th>\n",
       "      <th>date</th>\n",
       "      <th>desc</th>\n",
       "      <th>directions</th>\n",
       "      <th>fat</th>\n",
       "      <th>ingredients</th>\n",
       "      <th>protein</th>\n",
       "      <th>rating</th>\n",
       "      <th>sodium</th>\n",
       "      <th>title</th>\n",
       "    </tr>\n",
       "  </thead>\n",
       "  <tbody>\n",
       "    <tr>\n",
       "      <th>0</th>\n",
       "      <td>426.0</td>\n",
       "      <td>[Sandwich, Bean, Fruit, Tomato, turkey, Vegeta...</td>\n",
       "      <td>2006-09-01 04:00:00</td>\n",
       "      <td>None</td>\n",
       "      <td>[1. Place the stock, lentils, celery, carrot, ...</td>\n",
       "      <td>7.0</td>\n",
       "      <td>[4 cups low-sodium vegetable or chicken stock,...</td>\n",
       "      <td>30.0</td>\n",
       "      <td>2.500</td>\n",
       "      <td>559.0</td>\n",
       "      <td>Lentil, Apple, and Turkey Wrap</td>\n",
       "    </tr>\n",
       "    <tr>\n",
       "      <th>1</th>\n",
       "      <td>403.0</td>\n",
       "      <td>[Food Processor, Onion, Pork, Bake, Bastille D...</td>\n",
       "      <td>2004-08-20 04:00:00</td>\n",
       "      <td>This uses the same ingredients found in boudin...</td>\n",
       "      <td>[Combine first 9 ingredients in heavy medium s...</td>\n",
       "      <td>23.0</td>\n",
       "      <td>[1 1/2 cups whipping cream, 2 medium onions, c...</td>\n",
       "      <td>18.0</td>\n",
       "      <td>4.375</td>\n",
       "      <td>1439.0</td>\n",
       "      <td>Boudin Blanc Terrine with Red Onion Confit</td>\n",
       "    </tr>\n",
       "    <tr>\n",
       "      <th>2</th>\n",
       "      <td>165.0</td>\n",
       "      <td>[Soup/Stew, Dairy, Potato, Vegetable, Fennel, ...</td>\n",
       "      <td>2004-08-20 04:00:00</td>\n",
       "      <td>None</td>\n",
       "      <td>[In a large heavy saucepan cook diced fennel a...</td>\n",
       "      <td>7.0</td>\n",
       "      <td>[1 fennel bulb (sometimes called anise), stalk...</td>\n",
       "      <td>6.0</td>\n",
       "      <td>3.750</td>\n",
       "      <td>165.0</td>\n",
       "      <td>Potato and Fennel Soup Hodge</td>\n",
       "    </tr>\n",
       "    <tr>\n",
       "      <th>3</th>\n",
       "      <td>NaN</td>\n",
       "      <td>[Fish, Olive, Tomato, Sauté, Low Fat, Low Cal,...</td>\n",
       "      <td>2009-03-27 04:00:00</td>\n",
       "      <td>The Sicilian-style tomato sauce has tons of Me...</td>\n",
       "      <td>[Heat oil in heavy large skillet over medium-h...</td>\n",
       "      <td>NaN</td>\n",
       "      <td>[2 tablespoons extra-virgin olive oil, 1 cup c...</td>\n",
       "      <td>NaN</td>\n",
       "      <td>5.000</td>\n",
       "      <td>NaN</td>\n",
       "      <td>Mahi-Mahi in Tomato Olive Sauce</td>\n",
       "    </tr>\n",
       "    <tr>\n",
       "      <th>4</th>\n",
       "      <td>547.0</td>\n",
       "      <td>[Cheese, Dairy, Pasta, Vegetable, Side, Bake, ...</td>\n",
       "      <td>2004-08-20 04:00:00</td>\n",
       "      <td>None</td>\n",
       "      <td>[Preheat oven to 350°F. Lightly grease 8x8x2-i...</td>\n",
       "      <td>32.0</td>\n",
       "      <td>[1 12-ounce package frozen spinach soufflé, th...</td>\n",
       "      <td>20.0</td>\n",
       "      <td>3.125</td>\n",
       "      <td>452.0</td>\n",
       "      <td>Spinach Noodle Casserole</td>\n",
       "    </tr>\n",
       "  </tbody>\n",
       "</table>\n",
       "</div>"
      ],
      "text/plain": [
       "   calories                                         categories  \\\n",
       "0     426.0  [Sandwich, Bean, Fruit, Tomato, turkey, Vegeta...   \n",
       "1     403.0  [Food Processor, Onion, Pork, Bake, Bastille D...   \n",
       "2     165.0  [Soup/Stew, Dairy, Potato, Vegetable, Fennel, ...   \n",
       "3       NaN  [Fish, Olive, Tomato, Sauté, Low Fat, Low Cal,...   \n",
       "4     547.0  [Cheese, Dairy, Pasta, Vegetable, Side, Bake, ...   \n",
       "\n",
       "                 date                                               desc  \\\n",
       "0 2006-09-01 04:00:00                                               None   \n",
       "1 2004-08-20 04:00:00  This uses the same ingredients found in boudin...   \n",
       "2 2004-08-20 04:00:00                                               None   \n",
       "3 2009-03-27 04:00:00  The Sicilian-style tomato sauce has tons of Me...   \n",
       "4 2004-08-20 04:00:00                                               None   \n",
       "\n",
       "                                          directions   fat  \\\n",
       "0  [1. Place the stock, lentils, celery, carrot, ...   7.0   \n",
       "1  [Combine first 9 ingredients in heavy medium s...  23.0   \n",
       "2  [In a large heavy saucepan cook diced fennel a...   7.0   \n",
       "3  [Heat oil in heavy large skillet over medium-h...   NaN   \n",
       "4  [Preheat oven to 350°F. Lightly grease 8x8x2-i...  32.0   \n",
       "\n",
       "                                         ingredients  protein  rating  sodium  \\\n",
       "0  [4 cups low-sodium vegetable or chicken stock,...     30.0   2.500   559.0   \n",
       "1  [1 1/2 cups whipping cream, 2 medium onions, c...     18.0   4.375  1439.0   \n",
       "2  [1 fennel bulb (sometimes called anise), stalk...      6.0   3.750   165.0   \n",
       "3  [2 tablespoons extra-virgin olive oil, 1 cup c...      NaN   5.000     NaN   \n",
       "4  [1 12-ounce package frozen spinach soufflé, th...     20.0   3.125   452.0   \n",
       "\n",
       "                                         title  \n",
       "0              Lentil, Apple, and Turkey Wrap   \n",
       "1  Boudin Blanc Terrine with Red Onion Confit   \n",
       "2                Potato and Fennel Soup Hodge   \n",
       "3             Mahi-Mahi in Tomato Olive Sauce   \n",
       "4                    Spinach Noodle Casserole   "
      ]
     },
     "execution_count": 3,
     "metadata": {},
     "output_type": "execute_result"
    }
   ],
   "source": [
    "df_original.head()"
   ]
  },
  {
   "cell_type": "code",
   "execution_count": 4,
   "metadata": {},
   "outputs": [
    {
     "data": {
      "text/html": [
       "<div>\n",
       "<style scoped>\n",
       "    .dataframe tbody tr th:only-of-type {\n",
       "        vertical-align: middle;\n",
       "    }\n",
       "\n",
       "    .dataframe tbody tr th {\n",
       "        vertical-align: top;\n",
       "    }\n",
       "\n",
       "    .dataframe thead th {\n",
       "        text-align: right;\n",
       "    }\n",
       "</style>\n",
       "<table border=\"1\" class=\"dataframe\">\n",
       "  <thead>\n",
       "    <tr style=\"text-align: right;\">\n",
       "      <th></th>\n",
       "      <th>calories</th>\n",
       "      <th>fat</th>\n",
       "      <th>protein</th>\n",
       "      <th>rating</th>\n",
       "      <th>sodium</th>\n",
       "    </tr>\n",
       "  </thead>\n",
       "  <tbody>\n",
       "    <tr>\n",
       "      <th>count</th>\n",
       "      <td>1.597600e+04</td>\n",
       "      <td>1.590800e+04</td>\n",
       "      <td>15929.000000</td>\n",
       "      <td>20100.000000</td>\n",
       "      <td>1.597400e+04</td>\n",
       "    </tr>\n",
       "    <tr>\n",
       "      <th>mean</th>\n",
       "      <td>6.307857e+03</td>\n",
       "      <td>3.460975e+02</td>\n",
       "      <td>99.946199</td>\n",
       "      <td>3.713060</td>\n",
       "      <td>6.211474e+03</td>\n",
       "    </tr>\n",
       "    <tr>\n",
       "      <th>std</th>\n",
       "      <td>3.585851e+05</td>\n",
       "      <td>2.043102e+04</td>\n",
       "      <td>3835.616663</td>\n",
       "      <td>1.343144</td>\n",
       "      <td>3.328903e+05</td>\n",
       "    </tr>\n",
       "    <tr>\n",
       "      <th>min</th>\n",
       "      <td>0.000000e+00</td>\n",
       "      <td>0.000000e+00</td>\n",
       "      <td>0.000000</td>\n",
       "      <td>0.000000</td>\n",
       "      <td>0.000000e+00</td>\n",
       "    </tr>\n",
       "    <tr>\n",
       "      <th>25%</th>\n",
       "      <td>1.980000e+02</td>\n",
       "      <td>7.000000e+00</td>\n",
       "      <td>3.000000</td>\n",
       "      <td>3.750000</td>\n",
       "      <td>8.000000e+01</td>\n",
       "    </tr>\n",
       "    <tr>\n",
       "      <th>50%</th>\n",
       "      <td>3.310000e+02</td>\n",
       "      <td>1.700000e+01</td>\n",
       "      <td>8.000000</td>\n",
       "      <td>4.375000</td>\n",
       "      <td>2.940000e+02</td>\n",
       "    </tr>\n",
       "    <tr>\n",
       "      <th>75%</th>\n",
       "      <td>5.860000e+02</td>\n",
       "      <td>3.300000e+01</td>\n",
       "      <td>27.000000</td>\n",
       "      <td>4.375000</td>\n",
       "      <td>7.110000e+02</td>\n",
       "    </tr>\n",
       "    <tr>\n",
       "      <th>max</th>\n",
       "      <td>3.011122e+07</td>\n",
       "      <td>1.722763e+06</td>\n",
       "      <td>236489.000000</td>\n",
       "      <td>5.000000</td>\n",
       "      <td>2.767511e+07</td>\n",
       "    </tr>\n",
       "  </tbody>\n",
       "</table>\n",
       "</div>"
      ],
      "text/plain": [
       "           calories           fat        protein        rating        sodium\n",
       "count  1.597600e+04  1.590800e+04   15929.000000  20100.000000  1.597400e+04\n",
       "mean   6.307857e+03  3.460975e+02      99.946199      3.713060  6.211474e+03\n",
       "std    3.585851e+05  2.043102e+04    3835.616663      1.343144  3.328903e+05\n",
       "min    0.000000e+00  0.000000e+00       0.000000      0.000000  0.000000e+00\n",
       "25%    1.980000e+02  7.000000e+00       3.000000      3.750000  8.000000e+01\n",
       "50%    3.310000e+02  1.700000e+01       8.000000      4.375000  2.940000e+02\n",
       "75%    5.860000e+02  3.300000e+01      27.000000      4.375000  7.110000e+02\n",
       "max    3.011122e+07  1.722763e+06  236489.000000      5.000000  2.767511e+07"
      ]
     },
     "execution_count": 4,
     "metadata": {},
     "output_type": "execute_result"
    }
   ],
   "source": [
    "df_original.describe()"
   ]
  },
  {
   "cell_type": "code",
   "execution_count": 5,
   "metadata": {},
   "outputs": [
    {
     "data": {
      "text/plain": [
       "<matplotlib.axes._subplots.AxesSubplot at 0x1a18764588>"
      ]
     },
     "execution_count": 5,
     "metadata": {},
     "output_type": "execute_result"
    },
    {
     "data": {
      "image/png": "[encoded data removed]",
      "text/plain": [
       "<Figure size 720x432 with 1 Axes>"
      ]
     },
     "metadata": {
      "needs_background": "light"
     },
     "output_type": "display_data"
    }
   ],
   "source": [
    "df_original.boxplot(figsize=(10, 6))"
   ]
  },
  {
   "cell_type": "code",
   "execution_count": 6,
   "metadata": {},
   "outputs": [],
   "source": [
    "df_original.to_csv('epicurious_data_original.csv', index=False)"
   ]
  },
  {
   "cell_type": "markdown",
   "metadata": {},
   "source": [
    "### Updated Epicurious Data"
   ]
  },
  {
   "cell_type": "code",
   "execution_count": 91,
   "metadata": {},
   "outputs": [],
   "source": [
    "df = pd.read_json ('full_format_recipes.json')"
   ]
  },
  {
   "cell_type": "code",
   "execution_count": 92,
   "metadata": {},
   "outputs": [
    {
     "data": {
      "text/plain": [
       "calories              float64\n",
       "categories             object\n",
       "date           datetime64[ns]\n",
       "desc                   object\n",
       "directions             object\n",
       "fat                   float64\n",
       "ingredients            object\n",
       "protein               float64\n",
       "rating                float64\n",
       "sodium                float64\n",
       "title                  object\n",
       "dtype: object"
      ]
     },
     "execution_count": 92,
     "metadata": {},
     "output_type": "execute_result"
    }
   ],
   "source": [
    "#inspecting the data for date formats\n",
    "df.dtypes"
   ]
  },
  {
   "cell_type": "code",
   "execution_count": 93,
   "metadata": {},
   "outputs": [
    {
     "data": {
      "text/plain": [
       "20130"
      ]
     },
     "execution_count": 93,
     "metadata": {},
     "output_type": "execute_result"
    }
   ],
   "source": [
    "df.shape[0]"
   ]
  },
  {
   "cell_type": "code",
   "execution_count": 94,
   "metadata": {},
   "outputs": [
    {
     "data": {
      "text/plain": [
       "10608"
      ]
     },
     "execution_count": 94,
     "metadata": {},
     "output_type": "execute_result"
    }
   ],
   "source": [
    "# drop NaN values\n",
    "df = df.dropna()\n",
    "df.shape[0] # number of rows and columns"
   ]
  },
  {
   "cell_type": "code",
   "execution_count": 95,
   "metadata": {},
   "outputs": [],
   "source": [
    "# change the categories header to tags\n",
    "df.rename(columns = {'categories': 'tags'}, inplace=True)"
   ]
  },
  {
   "cell_type": "code",
   "execution_count": 96,
   "metadata": {},
   "outputs": [],
   "source": [
    "# add a column for count of ingredients\n",
    "df['ingredients_count'] = df['ingredients'].apply(lambda x: len(x))"
   ]
  },
  {
   "cell_type": "code",
   "execution_count": 97,
   "metadata": {},
   "outputs": [],
   "source": [
    "# add a column for count of tags\n",
    "df['tags_count'] = df['tags'].apply(lambda x: len(x))"
   ]
  },
  {
   "cell_type": "code",
   "execution_count": 98,
   "metadata": {},
   "outputs": [
    {
     "data": {
      "text/plain": [
       "10599"
      ]
     },
     "execution_count": 98,
     "metadata": {},
     "output_type": "execute_result"
    }
   ],
   "source": [
    "# remove recipes before 2004\n",
    "start_date = '01/01/2004'\n",
    "end_date = '12/31/2016'\n",
    "\n",
    "start_date = datetime.strptime(start_date,\"%m/%d/%Y\")\n",
    "end_date = datetime.strptime(end_date,\"%m/%d/%Y\")\n",
    "\n",
    "mask = (df['date'] > start_date) & (df['date'] <= end_date)\n",
    "df = df.loc[mask]\n",
    "df.shape[0]"
   ]
  },
  {
   "cell_type": "code",
   "execution_count": 99,
   "metadata": {},
   "outputs": [
    {
     "data": {
      "image/png": "[encoded data removed]",
      "text/plain": [
       "<Figure size 432x288 with 1 Axes>"
      ]
     },
     "metadata": {
      "needs_background": "light"
     },
     "output_type": "display_data"
    }
   ],
   "source": [
    "x_rating = df['date']\n",
    "y_feature = df['rating']\n",
    "\n",
    "plt.scatter(x_rating, y_feature)\n",
    "plt.title(\"Rating vs Date\")\n",
    "plt.xlabel(\"Date\")\n",
    "plt.ylabel(\"Rating\")\n",
    "plt.show()"
   ]
  },
  {
   "cell_type": "code",
   "execution_count": 100,
   "metadata": {},
   "outputs": [],
   "source": [
    "# add a column for length of time (in years) on site until 12/31/2016\n",
    "df['age'] = end_date - df['date']\n",
    "df['age'] = df['age'].dt.days.astype('int16')/365\n"
   ]
  },
  {
   "cell_type": "code",
   "execution_count": 101,
   "metadata": {},
   "outputs": [
    {
     "data": {
      "text/html": [
       "<div>\n",
       "<style scoped>\n",
       "    .dataframe tbody tr th:only-of-type {\n",
       "        vertical-align: middle;\n",
       "    }\n",
       "\n",
       "    .dataframe tbody tr th {\n",
       "        vertical-align: top;\n",
       "    }\n",
       "\n",
       "    .dataframe thead th {\n",
       "        text-align: right;\n",
       "    }\n",
       "</style>\n",
       "<table border=\"1\" class=\"dataframe\">\n",
       "  <thead>\n",
       "    <tr style=\"text-align: right;\">\n",
       "      <th></th>\n",
       "      <th>calories</th>\n",
       "      <th>fat</th>\n",
       "      <th>protein</th>\n",
       "      <th>rating</th>\n",
       "      <th>sodium</th>\n",
       "      <th>ingredients_count</th>\n",
       "      <th>tags_count</th>\n",
       "      <th>age</th>\n",
       "    </tr>\n",
       "  </thead>\n",
       "  <tbody>\n",
       "    <tr>\n",
       "      <th>count</th>\n",
       "      <td>9.119000e+03</td>\n",
       "      <td>9.119000e+03</td>\n",
       "      <td>9119.000000</td>\n",
       "      <td>9119.000000</td>\n",
       "      <td>9.119000e+03</td>\n",
       "      <td>9119.000000</td>\n",
       "      <td>9119.000000</td>\n",
       "      <td>9119.000000</td>\n",
       "    </tr>\n",
       "    <tr>\n",
       "      <th>mean</th>\n",
       "      <td>8.563650e+03</td>\n",
       "      <td>4.637477e+02</td>\n",
       "      <td>140.318127</td>\n",
       "      <td>4.114897</td>\n",
       "      <td>8.379403e+03</td>\n",
       "      <td>10.796579</td>\n",
       "      <td>12.602369</td>\n",
       "      <td>10.046004</td>\n",
       "    </tr>\n",
       "    <tr>\n",
       "      <th>std</th>\n",
       "      <td>4.517624e+05</td>\n",
       "      <td>2.567724e+04</td>\n",
       "      <td>4910.864842</td>\n",
       "      <td>0.647147</td>\n",
       "      <td>4.191690e+05</td>\n",
       "      <td>4.680862</td>\n",
       "      <td>4.887865</td>\n",
       "      <td>3.490562</td>\n",
       "    </tr>\n",
       "    <tr>\n",
       "      <th>min</th>\n",
       "      <td>1.300000e+01</td>\n",
       "      <td>1.000000e+00</td>\n",
       "      <td>1.000000</td>\n",
       "      <td>1.250000</td>\n",
       "      <td>1.000000e+00</td>\n",
       "      <td>1.000000</td>\n",
       "      <td>0.000000</td>\n",
       "      <td>0.046575</td>\n",
       "    </tr>\n",
       "    <tr>\n",
       "      <th>25%</th>\n",
       "      <td>2.330000e+02</td>\n",
       "      <td>1.100000e+01</td>\n",
       "      <td>5.000000</td>\n",
       "      <td>3.750000</td>\n",
       "      <td>1.360000e+02</td>\n",
       "      <td>7.000000</td>\n",
       "      <td>9.000000</td>\n",
       "      <td>8.580822</td>\n",
       "    </tr>\n",
       "    <tr>\n",
       "      <th>50%</th>\n",
       "      <td>3.920000e+02</td>\n",
       "      <td>2.100000e+01</td>\n",
       "      <td>11.000000</td>\n",
       "      <td>4.375000</td>\n",
       "      <td>3.660000e+02</td>\n",
       "      <td>10.000000</td>\n",
       "      <td>12.000000</td>\n",
       "      <td>12.369863</td>\n",
       "    </tr>\n",
       "    <tr>\n",
       "      <th>75%</th>\n",
       "      <td>6.490000e+02</td>\n",
       "      <td>3.800000e+01</td>\n",
       "      <td>33.000000</td>\n",
       "      <td>4.375000</td>\n",
       "      <td>8.130000e+02</td>\n",
       "      <td>13.000000</td>\n",
       "      <td>16.000000</td>\n",
       "      <td>12.369863</td>\n",
       "    </tr>\n",
       "    <tr>\n",
       "      <th>max</th>\n",
       "      <td>3.011122e+07</td>\n",
       "      <td>1.722763e+06</td>\n",
       "      <td>236489.000000</td>\n",
       "      <td>5.000000</td>\n",
       "      <td>2.767511e+07</td>\n",
       "      <td>51.000000</td>\n",
       "      <td>33.000000</td>\n",
       "      <td>12.397260</td>\n",
       "    </tr>\n",
       "  </tbody>\n",
       "</table>\n",
       "</div>"
      ],
      "text/plain": [
       "           calories           fat        protein       rating        sodium  \\\n",
       "count  9.119000e+03  9.119000e+03    9119.000000  9119.000000  9.119000e+03   \n",
       "mean   8.563650e+03  4.637477e+02     140.318127     4.114897  8.379403e+03   \n",
       "std    4.517624e+05  2.567724e+04    4910.864842     0.647147  4.191690e+05   \n",
       "min    1.300000e+01  1.000000e+00       1.000000     1.250000  1.000000e+00   \n",
       "25%    2.330000e+02  1.100000e+01       5.000000     3.750000  1.360000e+02   \n",
       "50%    3.920000e+02  2.100000e+01      11.000000     4.375000  3.660000e+02   \n",
       "75%    6.490000e+02  3.800000e+01      33.000000     4.375000  8.130000e+02   \n",
       "max    3.011122e+07  1.722763e+06  236489.000000     5.000000  2.767511e+07   \n",
       "\n",
       "       ingredients_count   tags_count          age  \n",
       "count        9119.000000  9119.000000  9119.000000  \n",
       "mean           10.796579    12.602369    10.046004  \n",
       "std             4.680862     4.887865     3.490562  \n",
       "min             1.000000     0.000000     0.046575  \n",
       "25%             7.000000     9.000000     8.580822  \n",
       "50%            10.000000    12.000000    12.369863  \n",
       "75%            13.000000    16.000000    12.369863  \n",
       "max            51.000000    33.000000    12.397260  "
      ]
     },
     "execution_count": 101,
     "metadata": {},
     "output_type": "execute_result"
    }
   ],
   "source": [
    "# remove zero rating and zero nutritional info recipes\n",
    "df = df.query(\"calories > 0 & fat > 0 & protein > 0 & sodium > 0 & rating > 0\")\n",
    "df.describe()"
   ]
  },
  {
   "cell_type": "code",
   "execution_count": 102,
   "metadata": {},
   "outputs": [],
   "source": [
    "# refactor rating scale 0 to 4\n",
    "\n",
    "# function to get normalized rating/define and bins\n",
    "def get_normalized_rating(rating):\n",
    "    if rating == 0:\n",
    "        return 0\n",
    "    elif rating == 1.250:\n",
    "        return 1\n",
    "    elif rating == 1.875:\n",
    "        return 1.5\n",
    "    elif rating == 2.500:\n",
    "        return 2\n",
    "    elif rating == 3.125:\n",
    "        return 2.5    \n",
    "    elif rating == 3.750:\n",
    "        return 3.0\n",
    "    elif rating == 4.375:\n",
    "        return 3.5    \n",
    "    else:\n",
    "        return 4\n",
    "    \n",
    "# create a normalized rating column\n",
    "df['rating_normalized'] = df['rating'].apply(get_normalized_rating)"
   ]
  },
  {
   "cell_type": "code",
   "execution_count": 103,
   "metadata": {},
   "outputs": [
    {
     "data": {
      "text/html": [
       "<div>\n",
       "<style scoped>\n",
       "    .dataframe tbody tr th:only-of-type {\n",
       "        vertical-align: middle;\n",
       "    }\n",
       "\n",
       "    .dataframe tbody tr th {\n",
       "        vertical-align: top;\n",
       "    }\n",
       "\n",
       "    .dataframe thead th {\n",
       "        text-align: right;\n",
       "    }\n",
       "</style>\n",
       "<table border=\"1\" class=\"dataframe\">\n",
       "  <thead>\n",
       "    <tr style=\"text-align: right;\">\n",
       "      <th></th>\n",
       "      <th>calories</th>\n",
       "      <th>fat</th>\n",
       "      <th>protein</th>\n",
       "      <th>rating</th>\n",
       "      <th>sodium</th>\n",
       "      <th>ingredients_count</th>\n",
       "      <th>tags_count</th>\n",
       "      <th>age</th>\n",
       "      <th>rating_normalized</th>\n",
       "    </tr>\n",
       "  </thead>\n",
       "  <tbody>\n",
       "    <tr>\n",
       "      <th>count</th>\n",
       "      <td>9049.000000</td>\n",
       "      <td>9049.000000</td>\n",
       "      <td>9049.000000</td>\n",
       "      <td>9049.000000</td>\n",
       "      <td>9049.000000</td>\n",
       "      <td>9049.000000</td>\n",
       "      <td>9049.000000</td>\n",
       "      <td>9049.000000</td>\n",
       "      <td>9049.000000</td>\n",
       "    </tr>\n",
       "    <tr>\n",
       "      <th>mean</th>\n",
       "      <td>531.129186</td>\n",
       "      <td>31.455962</td>\n",
       "      <td>24.015029</td>\n",
       "      <td>4.113231</td>\n",
       "      <td>623.802188</td>\n",
       "      <td>10.782959</td>\n",
       "      <td>12.607912</td>\n",
       "      <td>10.048893</td>\n",
       "      <td>3.290585</td>\n",
       "    </tr>\n",
       "    <tr>\n",
       "      <th>std</th>\n",
       "      <td>576.095958</td>\n",
       "      <td>42.460473</td>\n",
       "      <td>37.704635</td>\n",
       "      <td>0.647081</td>\n",
       "      <td>838.414120</td>\n",
       "      <td>4.674646</td>\n",
       "      <td>4.892330</td>\n",
       "      <td>3.489629</td>\n",
       "      <td>0.517665</td>\n",
       "    </tr>\n",
       "    <tr>\n",
       "      <th>min</th>\n",
       "      <td>13.000000</td>\n",
       "      <td>1.000000</td>\n",
       "      <td>1.000000</td>\n",
       "      <td>1.250000</td>\n",
       "      <td>1.000000</td>\n",
       "      <td>1.000000</td>\n",
       "      <td>0.000000</td>\n",
       "      <td>0.046575</td>\n",
       "      <td>1.000000</td>\n",
       "    </tr>\n",
       "    <tr>\n",
       "      <th>25%</th>\n",
       "      <td>232.000000</td>\n",
       "      <td>11.000000</td>\n",
       "      <td>5.000000</td>\n",
       "      <td>3.750000</td>\n",
       "      <td>135.000000</td>\n",
       "      <td>7.000000</td>\n",
       "      <td>9.000000</td>\n",
       "      <td>8.580822</td>\n",
       "      <td>3.000000</td>\n",
       "    </tr>\n",
       "    <tr>\n",
       "      <th>50%</th>\n",
       "      <td>389.000000</td>\n",
       "      <td>20.000000</td>\n",
       "      <td>11.000000</td>\n",
       "      <td>4.375000</td>\n",
       "      <td>363.000000</td>\n",
       "      <td>10.000000</td>\n",
       "      <td>12.000000</td>\n",
       "      <td>12.369863</td>\n",
       "      <td>3.500000</td>\n",
       "    </tr>\n",
       "    <tr>\n",
       "      <th>75%</th>\n",
       "      <td>644.000000</td>\n",
       "      <td>37.000000</td>\n",
       "      <td>32.000000</td>\n",
       "      <td>4.375000</td>\n",
       "      <td>798.000000</td>\n",
       "      <td>13.000000</td>\n",
       "      <td>16.000000</td>\n",
       "      <td>12.369863</td>\n",
       "      <td>3.500000</td>\n",
       "    </tr>\n",
       "    <tr>\n",
       "      <th>max</th>\n",
       "      <td>8858.000000</td>\n",
       "      <td>776.000000</td>\n",
       "      <td>1114.000000</td>\n",
       "      <td>5.000000</td>\n",
       "      <td>9792.000000</td>\n",
       "      <td>51.000000</td>\n",
       "      <td>33.000000</td>\n",
       "      <td>12.397260</td>\n",
       "      <td>4.000000</td>\n",
       "    </tr>\n",
       "  </tbody>\n",
       "</table>\n",
       "</div>"
      ],
      "text/plain": [
       "          calories          fat      protein       rating       sodium  \\\n",
       "count  9049.000000  9049.000000  9049.000000  9049.000000  9049.000000   \n",
       "mean    531.129186    31.455962    24.015029     4.113231   623.802188   \n",
       "std     576.095958    42.460473    37.704635     0.647081   838.414120   \n",
       "min      13.000000     1.000000     1.000000     1.250000     1.000000   \n",
       "25%     232.000000    11.000000     5.000000     3.750000   135.000000   \n",
       "50%     389.000000    20.000000    11.000000     4.375000   363.000000   \n",
       "75%     644.000000    37.000000    32.000000     4.375000   798.000000   \n",
       "max    8858.000000   776.000000  1114.000000     5.000000  9792.000000   \n",
       "\n",
       "       ingredients_count   tags_count          age  rating_normalized  \n",
       "count        9049.000000  9049.000000  9049.000000        9049.000000  \n",
       "mean           10.782959    12.607912    10.048893           3.290585  \n",
       "std             4.674646     4.892330     3.489629           0.517665  \n",
       "min             1.000000     0.000000     0.046575           1.000000  \n",
       "25%             7.000000     9.000000     8.580822           3.000000  \n",
       "50%            10.000000    12.000000    12.369863           3.500000  \n",
       "75%            13.000000    16.000000    12.369863           3.500000  \n",
       "max            51.000000    33.000000    12.397260           4.000000  "
      ]
     },
     "execution_count": 103,
     "metadata": {},
     "output_type": "execute_result"
    }
   ],
   "source": [
    "# remove outliers based on visual inspection of features\n",
    "# calories: remove anything above 10,000\n",
    "# fat: remove anything above 2,000\n",
    "# protein: remove anything above 2,000\n",
    "# sodium: remove anything above 10,000\n",
    "\n",
    "df = df.query(\"calories < 10000 & fat < 2000 & protein < 2000 & sodium < 10000\")\n",
    "df.describe()"
   ]
  },
  {
   "cell_type": "code",
   "execution_count": 104,
   "metadata": {},
   "outputs": [
    {
     "data": {
      "text/plain": [
       "(0, 1000)"
      ]
     },
     "execution_count": 104,
     "metadata": {},
     "output_type": "execute_result"
    },
    {
     "data": {
      "image/png": "[encoded data removed]",
      "text/plain": [
       "<Figure size 1008x432 with 1 Axes>"
      ]
     },
     "metadata": {
      "needs_background": "light"
     },
     "output_type": "display_data"
    }
   ],
   "source": [
    "df.boxplot(figsize=(14, 6))\n",
    "plt.ylim(0, 1000)"
   ]
  },
  {
   "cell_type": "code",
   "execution_count": 105,
   "metadata": {},
   "outputs": [
    {
     "data": {
      "text/plain": [
       "(0, 40)"
      ]
     },
     "execution_count": 105,
     "metadata": {},
     "output_type": "execute_result"
    },
    {
     "data": {
      "image/png": "[encoded data removed]",
      "text/plain": [
       "<Figure size 1008x432 with 1 Axes>"
      ]
     },
     "metadata": {
      "needs_background": "light"
     },
     "output_type": "display_data"
    }
   ],
   "source": [
    "df.boxplot(figsize=(14, 6))\n",
    "plt.ylim(0, 40)"
   ]
  },
  {
   "cell_type": "code",
   "execution_count": 106,
   "metadata": {},
   "outputs": [
    {
     "data": {
      "text/html": [
       "<div>\n",
       "<style scoped>\n",
       "    .dataframe tbody tr th:only-of-type {\n",
       "        vertical-align: middle;\n",
       "    }\n",
       "\n",
       "    .dataframe tbody tr th {\n",
       "        vertical-align: top;\n",
       "    }\n",
       "\n",
       "    .dataframe thead th {\n",
       "        text-align: right;\n",
       "    }\n",
       "</style>\n",
       "<table border=\"1\" class=\"dataframe\">\n",
       "  <thead>\n",
       "    <tr style=\"text-align: right;\">\n",
       "      <th></th>\n",
       "      <th>rating_normalized</th>\n",
       "      <th>counts</th>\n",
       "      <th>percentage</th>\n",
       "    </tr>\n",
       "  </thead>\n",
       "  <tbody>\n",
       "    <tr>\n",
       "      <th>0</th>\n",
       "      <td>3.5</td>\n",
       "      <td>4165</td>\n",
       "      <td>46.0%</td>\n",
       "    </tr>\n",
       "    <tr>\n",
       "      <th>1</th>\n",
       "      <td>3.0</td>\n",
       "      <td>2473</td>\n",
       "      <td>27.3%</td>\n",
       "    </tr>\n",
       "    <tr>\n",
       "      <th>2</th>\n",
       "      <td>4.0</td>\n",
       "      <td>1347</td>\n",
       "      <td>14.9%</td>\n",
       "    </tr>\n",
       "    <tr>\n",
       "      <th>3</th>\n",
       "      <td>2.5</td>\n",
       "      <td>716</td>\n",
       "      <td>7.9%</td>\n",
       "    </tr>\n",
       "    <tr>\n",
       "      <th>4</th>\n",
       "      <td>2.0</td>\n",
       "      <td>237</td>\n",
       "      <td>2.6%</td>\n",
       "    </tr>\n",
       "    <tr>\n",
       "      <th>5</th>\n",
       "      <td>1.0</td>\n",
       "      <td>77</td>\n",
       "      <td>0.9%</td>\n",
       "    </tr>\n",
       "    <tr>\n",
       "      <th>6</th>\n",
       "      <td>1.5</td>\n",
       "      <td>34</td>\n",
       "      <td>0.4%</td>\n",
       "    </tr>\n",
       "  </tbody>\n",
       "</table>\n",
       "</div>"
      ],
      "text/plain": [
       "   rating_normalized  counts percentage\n",
       "0                3.5    4165      46.0%\n",
       "1                3.0    2473      27.3%\n",
       "2                4.0    1347      14.9%\n",
       "3                2.5     716       7.9%\n",
       "4                2.0     237       2.6%\n",
       "5                1.0      77       0.9%\n",
       "6                1.5      34       0.4%"
      ]
     },
     "execution_count": 106,
     "metadata": {},
     "output_type": "execute_result"
    }
   ],
   "source": [
    "# count the number of unique rating values\n",
    "rating_counts = df['rating_normalized'].value_counts()\n",
    "\n",
    "# count the total number of ratings\n",
    "rc_total = df['rating_normalized'].count()\n",
    "\n",
    "# \n",
    "rating_counts = rating_counts.rename_axis('rating_normalized').reset_index(name='counts')\n",
    "\n",
    "# unique rating value / total number of ratings * 100 = unique rating percentage\n",
    "rating_counts['percentage'] = ((rating_counts['counts']/rc_total)*100).map('{:,.1f}%'.format)\n",
    "rating_counts"
   ]
  },
  {
   "cell_type": "code",
   "execution_count": 107,
   "metadata": {},
   "outputs": [
    {
     "data": {
      "image/png": "[encoded data removed]",
      "text/plain": [
       "<Figure size 720x432 with 1 Axes>"
      ]
     },
     "metadata": {
      "needs_background": "light"
     },
     "output_type": "display_data"
    }
   ],
   "source": [
    "x_rating = rating_counts['rating_normalized']\n",
    "y_feature = rating_counts['counts']\n",
    "\n",
    "plt.figure(figsize=(10, 6)) \n",
    "labels = rating_counts['rating_normalized']\n",
    "barplot = plt.bar(x_rating, y_feature, width = 0.4, label = labels)\n",
    "\n",
    "bar_var = 0\n",
    "\n",
    "for bar in barplot:\n",
    "\n",
    "    label_height = bar.get_height()\n",
    "    label_value = rating_counts['percentage'][bar_var]\n",
    "\n",
    "    plt.text(bar.get_x() + bar.get_width()/3, label_height, label_value, va='bottom')\n",
    "    \n",
    "    bar_var += 1 \n",
    "        \n",
    "\n",
    "plt.title(\"UPDATED Epicurious Recipe Rating Percentages\")\n",
    "plt.xticks(x_rating, labels)\n",
    "plt.xlabel(\"Recipe Rating\")\n",
    "plt.ylabel(\"Rating Frequency\")\n",
    "plt.tight_layout()"
   ]
  },
  {
   "cell_type": "code",
   "execution_count": 108,
   "metadata": {},
   "outputs": [
    {
     "data": {
      "image/png": "[encoded data removed]",
      "text/plain": [
       "<Figure size 432x288 with 1 Axes>"
      ]
     },
     "metadata": {
      "needs_background": "light"
     },
     "output_type": "display_data"
    }
   ],
   "source": [
    "# CLEANED - Rating vs Rating\n",
    "x_rating = df['rating_normalized']\n",
    "y_feature = df['rating_normalized']\n",
    "\n",
    "plt.scatter(x_rating, y_feature)\n",
    "plt.title(\"UPDATED Rating Norm vs Rating Norm\")\n",
    "plt.xlabel(\"Rating Normalized\")\n",
    "plt.ylabel(\"Rating Normalized\")\n",
    "plt.show()"
   ]
  },
  {
   "cell_type": "code",
   "execution_count": 109,
   "metadata": {},
   "outputs": [
    {
     "data": {
      "image/png": "[encoded data removed]",
      "text/plain": [
       "<Figure size 432x288 with 1 Axes>"
      ]
     },
     "metadata": {
      "needs_background": "light"
     },
     "output_type": "display_data"
    }
   ],
   "source": [
    "x_rating = df['date']\n",
    "y_feature = df['rating_normalized']\n",
    "\n",
    "plt.scatter(x_rating, y_feature)\n",
    "plt.title(\"UPDATED Rating Normalized vs Date\")\n",
    "plt.xlabel(\"Date\")\n",
    "plt.ylabel(\"Rating Normalized\")\n",
    "plt.show()"
   ]
  },
  {
   "cell_type": "code",
   "execution_count": 110,
   "metadata": {},
   "outputs": [],
   "source": [
    "df.to_csv('epicurious_data_cleaned_updated.csv', index=False)"
   ]
  },
  {
   "cell_type": "markdown",
   "metadata": {},
   "source": [
    "### Imputed NAs Epicurious Data"
   ]
  },
  {
   "cell_type": "code",
   "execution_count": 82,
   "metadata": {},
   "outputs": [],
   "source": [
    "df = pd.read_json ('full_format_recipes.json')"
   ]
  },
  {
   "cell_type": "code",
   "execution_count": 83,
   "metadata": {},
   "outputs": [],
   "source": [
    "# change the categories header to tags\n",
    "df.rename(columns = {'categories': 'tags'}, inplace=True)\n",
    "\n",
    "# change the categories header to tags\n",
    "df.rename(columns = {'categories': 'tags'}, inplace=True)\n",
    "\n",
    "# remove recipes before 2004\n",
    "start_date = '01/01/2004'\n",
    "end_date = '12/31/2016'\n",
    "\n",
    "start_date = datetime.strptime(start_date,\"%m/%d/%Y\")\n",
    "end_date = datetime.strptime(end_date,\"%m/%d/%Y\")\n",
    "\n",
    "mask = (df['date'] > start_date) & (df['date'] <= end_date)\n",
    "df = df.loc[mask]\n",
    "\n",
    "# add a column for length of time (in years) on site until 12/31/2016\n",
    "df['age'] = end_date - df['date']\n",
    "df['age'] = df['age'].dt.days.astype('int16')/365\n",
    "\n",
    "# remove zero rating and zero nutritional info recipes\n",
    "df = df.query(\"calories > 0 & fat > 0 & protein > 0 & sodium > 0 & rating > 0\")\n",
    "\n",
    "# refactor rating scale 0 to 4\n",
    "\n",
    "# function to get normalized rating/define and bins\n",
    "def get_normalized_rating(rating):\n",
    "    if rating == 0:\n",
    "        return 0\n",
    "    elif rating == 1.250:\n",
    "        return 1\n",
    "    elif rating == 1.875:\n",
    "        return 1.5\n",
    "    elif rating == 2.500:\n",
    "        return 2\n",
    "    elif rating == 3.125:\n",
    "        return 2.5    \n",
    "    elif rating == 3.750:\n",
    "        return 3.0\n",
    "    elif rating == 4.375:\n",
    "        return 3.5    \n",
    "    else:\n",
    "        return 4\n",
    "    \n",
    "# create a normalized rating column\n",
    "df['rating_normalized'] = df['rating'].apply(get_normalized_rating)\n",
    "\n",
    "df = df.query(\"calories < 10000 & fat < 2000 & protein < 2000 & sodium < 10000\")\n",
    "\n",
    "df.to_csv('epicurious_data_cleaned_updated_nona.csv', index=False)"
   ]
  },
  {
   "cell_type": "code",
   "execution_count": 84,
   "metadata": {},
   "outputs": [],
   "source": [
    "# imputing (replacing missing with median value)\n",
    "median = df.describe().iloc[1]\n",
    "df['rating_normalized'].fillna(median, inplace = True)"
   ]
  },
  {
   "cell_type": "code",
   "execution_count": 85,
   "metadata": {},
   "outputs": [],
   "source": [
    "# add a column for count of ingredients\n",
    "df['ingredients_count'] = df['ingredients'].apply(lambda x: len(x))"
   ]
  },
  {
   "cell_type": "code",
   "execution_count": 86,
   "metadata": {},
   "outputs": [],
   "source": [
    "# add a column for count of ingredients\n",
    "df['ingredients_count'] = df['ingredients'].apply(lambda x: len(x))"
   ]
  },
  {
   "cell_type": "code",
   "execution_count": 87,
   "metadata": {},
   "outputs": [],
   "source": [
    "# add a column for count of tags\n",
    "df['tags_count'] = df['tags'].apply(lambda x: len(x))"
   ]
  },
  {
   "cell_type": "code",
   "execution_count": 88,
   "metadata": {},
   "outputs": [
    {
     "data": {
      "text/html": [
       "<div>\n",
       "<style scoped>\n",
       "    .dataframe tbody tr th:only-of-type {\n",
       "        vertical-align: middle;\n",
       "    }\n",
       "\n",
       "    .dataframe tbody tr th {\n",
       "        vertical-align: top;\n",
       "    }\n",
       "\n",
       "    .dataframe thead th {\n",
       "        text-align: right;\n",
       "    }\n",
       "</style>\n",
       "<table border=\"1\" class=\"dataframe\">\n",
       "  <thead>\n",
       "    <tr style=\"text-align: right;\">\n",
       "      <th></th>\n",
       "      <th>calories</th>\n",
       "      <th>fat</th>\n",
       "      <th>protein</th>\n",
       "      <th>rating</th>\n",
       "      <th>sodium</th>\n",
       "      <th>age</th>\n",
       "      <th>rating_normalized</th>\n",
       "      <th>ingredients_count</th>\n",
       "      <th>tags_count</th>\n",
       "    </tr>\n",
       "  </thead>\n",
       "  <tbody>\n",
       "    <tr>\n",
       "      <th>count</th>\n",
       "      <td>13397.000000</td>\n",
       "      <td>13397.000000</td>\n",
       "      <td>13397.000000</td>\n",
       "      <td>13397.000000</td>\n",
       "      <td>13397.000000</td>\n",
       "      <td>13397.000000</td>\n",
       "      <td>13397.000000</td>\n",
       "      <td>13397.000000</td>\n",
       "      <td>13397.000000</td>\n",
       "    </tr>\n",
       "    <tr>\n",
       "      <th>mean</th>\n",
       "      <td>521.662686</td>\n",
       "      <td>30.643875</td>\n",
       "      <td>22.794954</td>\n",
       "      <td>4.090795</td>\n",
       "      <td>594.241547</td>\n",
       "      <td>10.551235</td>\n",
       "      <td>3.272636</td>\n",
       "      <td>10.589311</td>\n",
       "      <td>12.369859</td>\n",
       "    </tr>\n",
       "    <tr>\n",
       "      <th>std</th>\n",
       "      <td>592.112179</td>\n",
       "      <td>42.903796</td>\n",
       "      <td>36.446892</td>\n",
       "      <td>0.641253</td>\n",
       "      <td>804.818416</td>\n",
       "      <td>3.171424</td>\n",
       "      <td>0.513003</td>\n",
       "      <td>4.549341</td>\n",
       "      <td>4.865374</td>\n",
       "    </tr>\n",
       "    <tr>\n",
       "      <th>min</th>\n",
       "      <td>13.000000</td>\n",
       "      <td>1.000000</td>\n",
       "      <td>1.000000</td>\n",
       "      <td>1.250000</td>\n",
       "      <td>1.000000</td>\n",
       "      <td>0.046575</td>\n",
       "      <td>1.000000</td>\n",
       "      <td>1.000000</td>\n",
       "      <td>0.000000</td>\n",
       "    </tr>\n",
       "    <tr>\n",
       "      <th>25%</th>\n",
       "      <td>228.000000</td>\n",
       "      <td>10.000000</td>\n",
       "      <td>4.000000</td>\n",
       "      <td>3.750000</td>\n",
       "      <td>121.000000</td>\n",
       "      <td>9.972603</td>\n",
       "      <td>3.000000</td>\n",
       "      <td>7.000000</td>\n",
       "      <td>8.000000</td>\n",
       "    </tr>\n",
       "    <tr>\n",
       "      <th>50%</th>\n",
       "      <td>374.000000</td>\n",
       "      <td>20.000000</td>\n",
       "      <td>10.000000</td>\n",
       "      <td>4.375000</td>\n",
       "      <td>342.000000</td>\n",
       "      <td>12.369863</td>\n",
       "      <td>3.500000</td>\n",
       "      <td>10.000000</td>\n",
       "      <td>12.000000</td>\n",
       "    </tr>\n",
       "    <tr>\n",
       "      <th>75%</th>\n",
       "      <td>626.000000</td>\n",
       "      <td>36.000000</td>\n",
       "      <td>30.000000</td>\n",
       "      <td>4.375000</td>\n",
       "      <td>763.000000</td>\n",
       "      <td>12.369863</td>\n",
       "      <td>3.500000</td>\n",
       "      <td>13.000000</td>\n",
       "      <td>16.000000</td>\n",
       "    </tr>\n",
       "    <tr>\n",
       "      <th>max</th>\n",
       "      <td>9831.000000</td>\n",
       "      <td>923.000000</td>\n",
       "      <td>1114.000000</td>\n",
       "      <td>5.000000</td>\n",
       "      <td>9792.000000</td>\n",
       "      <td>12.397260</td>\n",
       "      <td>4.000000</td>\n",
       "      <td>51.000000</td>\n",
       "      <td>33.000000</td>\n",
       "    </tr>\n",
       "  </tbody>\n",
       "</table>\n",
       "</div>"
      ],
      "text/plain": [
       "           calories           fat       protein        rating        sodium  \\\n",
       "count  13397.000000  13397.000000  13397.000000  13397.000000  13397.000000   \n",
       "mean     521.662686     30.643875     22.794954      4.090795    594.241547   \n",
       "std      592.112179     42.903796     36.446892      0.641253    804.818416   \n",
       "min       13.000000      1.000000      1.000000      1.250000      1.000000   \n",
       "25%      228.000000     10.000000      4.000000      3.750000    121.000000   \n",
       "50%      374.000000     20.000000     10.000000      4.375000    342.000000   \n",
       "75%      626.000000     36.000000     30.000000      4.375000    763.000000   \n",
       "max     9831.000000    923.000000   1114.000000      5.000000   9792.000000   \n",
       "\n",
       "                age  rating_normalized  ingredients_count    tags_count  \n",
       "count  13397.000000       13397.000000       13397.000000  13397.000000  \n",
       "mean      10.551235           3.272636          10.589311     12.369859  \n",
       "std        3.171424           0.513003           4.549341      4.865374  \n",
       "min        0.046575           1.000000           1.000000      0.000000  \n",
       "25%        9.972603           3.000000           7.000000      8.000000  \n",
       "50%       12.369863           3.500000          10.000000     12.000000  \n",
       "75%       12.369863           3.500000          13.000000     16.000000  \n",
       "max       12.397260           4.000000          51.000000     33.000000  "
      ]
     },
     "execution_count": 88,
     "metadata": {},
     "output_type": "execute_result"
    }
   ],
   "source": [
    "df.describe()"
   ]
  },
  {
   "cell_type": "code",
   "execution_count": 89,
   "metadata": {},
   "outputs": [
    {
     "data": {
      "text/plain": [
       "<matplotlib.axes._subplots.AxesSubplot at 0x1a2561af98>"
      ]
     },
     "execution_count": 89,
     "metadata": {},
     "output_type": "execute_result"
    },
    {
     "data": {
      "image/png": "[encoded data removed]",
      "text/plain": [
       "<Figure size 432x288 with 1 Axes>"
      ]
     },
     "metadata": {
      "needs_background": "light"
     },
     "output_type": "display_data"
    }
   ],
   "source": [
    "df.boxplot()"
   ]
  },
  {
   "cell_type": "code",
   "execution_count": 90,
   "metadata": {},
   "outputs": [],
   "source": [
    "df.to_csv('epicurious_data_updated_imputed.csv', index=False)"
   ]
  },
  {
   "cell_type": "code",
   "execution_count": null,
   "metadata": {},
   "outputs": [],
   "source": []
  },
  {
   "cell_type": "code",
   "execution_count": null,
   "metadata": {},
   "outputs": [],
   "source": []
  }
 ],
 "metadata": {
  "kernelspec": {
   "display_name": "Python 3",
   "language": "python",
   "name": "python3"
  },
  "language_info": {
   "codemirror_mode": {
    "name": "ipython",
    "version": 3
   },
   "file_extension": ".py",
   "mimetype": "text/x-python",
   "name": "python",
   "nbconvert_exporter": "python",
   "pygments_lexer": "ipython3",
   "version": "3.7.3"
  }
 },
 "nbformat": 4,
 "nbformat_minor": 2
}
