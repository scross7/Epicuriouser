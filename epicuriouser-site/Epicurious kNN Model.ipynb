{
 "cells": [
  {
   "cell_type": "markdown",
   "metadata": {},
   "source": [
    "# Epicurious kNN Model (Classification)\n",
    "- https://machinelearningmastery.com/k-nearest-neighbors-for-machine-learning/\n",
    "- https://www.datacamp.com/community/tutorials/k-nearest-neighbor-classification-scikit-learn\n",
    "- Why kNN? \n",
    "    - Supervised classification algorithm\n",
    "    - Model representation for KNN is the entire training dataset\n",
    "    - KNN performs well with all data on same scale\n",
    "        - Normalizing data to range [0, 1]\n",
    "        - features with high magnitudes will weight more than features with low magnitudes\n",
    "    - Address missing data (this is how kNN calcs the distance)\n",
    "        - Excude or imput missing values\n",
    "    - kNN performs well with lower dimenionality"
   ]
  },
  {
   "cell_type": "code",
   "execution_count": 5,
   "metadata": {},
   "outputs": [],
   "source": [
    "import math \n",
    "from statistics import mean\n",
    "import pandas as pd  \n",
    "import numpy as np\n",
    "import matplotlib\n",
    "import matplotlib.pyplot as plt  \n",
    "import seaborn as seabornInstance \n",
    "%matplotlib inline\n",
    "import warnings; warnings.simplefilter('ignore')\n",
    "from datetime import date\n",
    "from datetime import datetime\n",
    "import pylab as pl\n",
    "\n",
    "from sklearn import metrics\n",
    "from sklearn import preprocessing\n",
    "from sklearn import utils\n",
    "from sklearn import datasets\n",
    "from sklearn.model_selection import cross_val_score\n",
    "from sklearn import model_selection\n",
    "from sklearn.svm import SVC, SVR\n",
    "\n",
    "from sklearn.preprocessing import MinMaxScaler, Normalizer\n",
    "from sklearn.pipeline import make_pipeline\n",
    "from sklearn.metrics import accuracy_score, classification_report, confusion_matrix\n",
    "from sklearn.impute import SimpleImputer\n",
    "from sklearn.preprocessing import StandardScaler\n",
    "from sklearn.feature_selection import SelectKBest, f_classif, chi2\n",
    "from sklearn.model_selection import train_test_split\n",
    "\n",
    "from sklearn.linear_model import LogisticRegression\n",
    "from sklearn.tree import DecisionTreeClassifier\n",
    "from sklearn.neighbors import KNeighborsClassifier\n",
    "from sklearn.discriminant_analysis import LinearDiscriminantAnalysis\n",
    "from sklearn.naive_bayes import GaussianNB\n",
    "from sklearn.svm import SVC\n",
    "from sklearn.cluster import KMeans"
   ]
  },
  {
   "cell_type": "markdown",
   "metadata": {},
   "source": [
    "# Data Set\n",
    "- https://www.kaggle.com/hugodarwood/epirecipes"
   ]
  },
  {
   "cell_type": "markdown",
   "metadata": {},
   "source": [
    "# Data Cleaning & Preprocessing\n",
    "- removed null values for rating\n",
    "- removed all features and ratings with a value of zero\n",
    "- removed outliers\n",
    "- add ingredients count feature\n",
    "- add tags counts feature\n",
    "- add age of recipe feature from date\n",
    "- refactor the ratings from a 5 point scale to a 4 point scale"
   ]
  },
  {
   "cell_type": "markdown",
   "metadata": {},
   "source": [
    "# Read Data"
   ]
  },
  {
   "cell_type": "code",
   "execution_count": 15,
   "metadata": {},
   "outputs": [],
   "source": [
    "# read data from csv\n",
    "df_updated = pd.read_csv('epicurious_data_cleaned_updated.csv')"
   ]
  },
  {
   "cell_type": "code",
   "execution_count": 16,
   "metadata": {},
   "outputs": [
    {
     "data": {
      "text/html": [
       "<div>\n",
       "<style scoped>\n",
       "    .dataframe tbody tr th:only-of-type {\n",
       "        vertical-align: middle;\n",
       "    }\n",
       "\n",
       "    .dataframe tbody tr th {\n",
       "        vertical-align: top;\n",
       "    }\n",
       "\n",
       "    .dataframe thead th {\n",
       "        text-align: right;\n",
       "    }\n",
       "</style>\n",
       "<table border=\"1\" class=\"dataframe\">\n",
       "  <thead>\n",
       "    <tr style=\"text-align: right;\">\n",
       "      <th></th>\n",
       "      <th>calories</th>\n",
       "      <th>fat</th>\n",
       "      <th>protein</th>\n",
       "      <th>rating</th>\n",
       "      <th>sodium</th>\n",
       "      <th>ingredients_count</th>\n",
       "      <th>tags_count</th>\n",
       "      <th>age</th>\n",
       "      <th>rating_normalized</th>\n",
       "    </tr>\n",
       "  </thead>\n",
       "  <tbody>\n",
       "    <tr>\n",
       "      <th>count</th>\n",
       "      <td>9049.000000</td>\n",
       "      <td>9049.000000</td>\n",
       "      <td>9049.000000</td>\n",
       "      <td>9049.000000</td>\n",
       "      <td>9049.000000</td>\n",
       "      <td>9049.000000</td>\n",
       "      <td>9049.000000</td>\n",
       "      <td>9049.000000</td>\n",
       "      <td>9049.000000</td>\n",
       "    </tr>\n",
       "    <tr>\n",
       "      <th>mean</th>\n",
       "      <td>531.129186</td>\n",
       "      <td>31.455962</td>\n",
       "      <td>24.015029</td>\n",
       "      <td>4.113231</td>\n",
       "      <td>623.802188</td>\n",
       "      <td>10.782959</td>\n",
       "      <td>12.607912</td>\n",
       "      <td>10.048893</td>\n",
       "      <td>3.290585</td>\n",
       "    </tr>\n",
       "    <tr>\n",
       "      <th>std</th>\n",
       "      <td>576.095958</td>\n",
       "      <td>42.460473</td>\n",
       "      <td>37.704635</td>\n",
       "      <td>0.647081</td>\n",
       "      <td>838.414120</td>\n",
       "      <td>4.674646</td>\n",
       "      <td>4.892330</td>\n",
       "      <td>3.489629</td>\n",
       "      <td>0.517665</td>\n",
       "    </tr>\n",
       "    <tr>\n",
       "      <th>min</th>\n",
       "      <td>13.000000</td>\n",
       "      <td>1.000000</td>\n",
       "      <td>1.000000</td>\n",
       "      <td>1.250000</td>\n",
       "      <td>1.000000</td>\n",
       "      <td>1.000000</td>\n",
       "      <td>0.000000</td>\n",
       "      <td>0.046575</td>\n",
       "      <td>1.000000</td>\n",
       "    </tr>\n",
       "    <tr>\n",
       "      <th>25%</th>\n",
       "      <td>232.000000</td>\n",
       "      <td>11.000000</td>\n",
       "      <td>5.000000</td>\n",
       "      <td>3.750000</td>\n",
       "      <td>135.000000</td>\n",
       "      <td>7.000000</td>\n",
       "      <td>9.000000</td>\n",
       "      <td>8.580822</td>\n",
       "      <td>3.000000</td>\n",
       "    </tr>\n",
       "    <tr>\n",
       "      <th>50%</th>\n",
       "      <td>389.000000</td>\n",
       "      <td>20.000000</td>\n",
       "      <td>11.000000</td>\n",
       "      <td>4.375000</td>\n",
       "      <td>363.000000</td>\n",
       "      <td>10.000000</td>\n",
       "      <td>12.000000</td>\n",
       "      <td>12.369863</td>\n",
       "      <td>3.500000</td>\n",
       "    </tr>\n",
       "    <tr>\n",
       "      <th>75%</th>\n",
       "      <td>644.000000</td>\n",
       "      <td>37.000000</td>\n",
       "      <td>32.000000</td>\n",
       "      <td>4.375000</td>\n",
       "      <td>798.000000</td>\n",
       "      <td>13.000000</td>\n",
       "      <td>16.000000</td>\n",
       "      <td>12.369863</td>\n",
       "      <td>3.500000</td>\n",
       "    </tr>\n",
       "    <tr>\n",
       "      <th>max</th>\n",
       "      <td>8858.000000</td>\n",
       "      <td>776.000000</td>\n",
       "      <td>1114.000000</td>\n",
       "      <td>5.000000</td>\n",
       "      <td>9792.000000</td>\n",
       "      <td>51.000000</td>\n",
       "      <td>33.000000</td>\n",
       "      <td>12.397260</td>\n",
       "      <td>4.000000</td>\n",
       "    </tr>\n",
       "  </tbody>\n",
       "</table>\n",
       "</div>"
      ],
      "text/plain": [
       "          calories          fat      protein       rating       sodium  \\\n",
       "count  9049.000000  9049.000000  9049.000000  9049.000000  9049.000000   \n",
       "mean    531.129186    31.455962    24.015029     4.113231   623.802188   \n",
       "std     576.095958    42.460473    37.704635     0.647081   838.414120   \n",
       "min      13.000000     1.000000     1.000000     1.250000     1.000000   \n",
       "25%     232.000000    11.000000     5.000000     3.750000   135.000000   \n",
       "50%     389.000000    20.000000    11.000000     4.375000   363.000000   \n",
       "75%     644.000000    37.000000    32.000000     4.375000   798.000000   \n",
       "max    8858.000000   776.000000  1114.000000     5.000000  9792.000000   \n",
       "\n",
       "       ingredients_count   tags_count          age  rating_normalized  \n",
       "count        9049.000000  9049.000000  9049.000000        9049.000000  \n",
       "mean           10.782959    12.607912    10.048893           3.290585  \n",
       "std             4.674646     4.892330     3.489629           0.517665  \n",
       "min             1.000000     0.000000     0.046575           1.000000  \n",
       "25%             7.000000     9.000000     8.580822           3.000000  \n",
       "50%            10.000000    12.000000    12.369863           3.500000  \n",
       "75%            13.000000    16.000000    12.369863           3.500000  \n",
       "max            51.000000    33.000000    12.397260           4.000000  "
      ]
     },
     "execution_count": 16,
     "metadata": {},
     "output_type": "execute_result"
    }
   ],
   "source": [
    "# set up features and target data\n",
    "features = ['calories','fat','protein','sodium', 'ingredients_count', 'tags_count', 'age']\n",
    "# features = ['tags_count', 'age']\n",
    "X = df_updated[features].values\n",
    "y = df_updated['rating_normalized'].values\n",
    "df_updated.describe()"
   ]
  },
  {
   "cell_type": "markdown",
   "metadata": {},
   "source": [
    "# Split into Training & Test Sets\n",
    "- https://towardsdatascience.com/6-amateur-mistakes-ive-made-working-with-train-test-splits-916fabb421bb"
   ]
  },
  {
   "cell_type": "code",
   "execution_count": 17,
   "metadata": {},
   "outputs": [],
   "source": [
    "# Split dataset into training set and test set (70% training and 30% test)\n",
    "X_train, X_test, y_train, y_test = train_test_split(X, y, test_size=0.3,random_state=1, stratify=y)"
   ]
  },
  {
   "cell_type": "markdown",
   "metadata": {},
   "source": [
    "# Feature Selection & Preprocessing\n",
    "- https://scikit-learn.org/stable/auto_examples/feature_selection/plot_feature_selection.html\n",
    "- https://towardsdatascience.com/preprocessing-encode-and-knn-impute-all-categorical-features-fast-b05f50b4dfaa"
   ]
  },
  {
   "cell_type": "markdown",
   "metadata": {},
   "source": [
    "### Univariate feature selection with F-test for feature scoring"
   ]
  },
  {
   "cell_type": "code",
   "execution_count": 18,
   "metadata": {},
   "outputs": [],
   "source": [
    "selector = SelectKBest(f_classif, k=2)\n",
    "selector.fit(X_train, y_train)\n",
    "scores = -np.log10(selector.pvalues_)\n",
    "scores /= scores.max()"
   ]
  },
  {
   "cell_type": "code",
   "execution_count": 19,
   "metadata": {},
   "outputs": [
    {
     "data": {
      "text/plain": [
       "Text(0.5, 0, 'Feature')"
      ]
     },
     "execution_count": 19,
     "metadata": {},
     "output_type": "execute_result"
    },
    {
     "data": {
      "image/png": "[encoded data removed]",
      "text/plain": [
       "<Figure size 864x288 with 1 Axes>"
      ]
     },
     "metadata": {
      "needs_background": "light"
     },
     "output_type": "display_data"
    }
   ],
   "source": [
    "X_indices = np.arange(X.shape[-1])\n",
    "plt.figure(figsize=(12, 4)) \n",
    "plt.xticks(X_indices, features)\n",
    "plt.bar(X_indices, scores, width=0.8,\n",
    "        label=r'Univariate score ($-Log(p_{value})$)', color='darkorange',\n",
    "        edgecolor='black')\n",
    "plt.title(\"Univariate feature selection with F-test\")\n",
    "plt.xlabel(\"Feature\")"
   ]
  },
  {
   "cell_type": "markdown",
   "metadata": {},
   "source": [
    "### Encode the target for the kNN model\n",
    "- https://scikit-learn.org/stable/modules/generated/sklearn.preprocessing.LabelEncoder.html\n",
    "    - fit(self, y): fit label encoder\n",
    "    - fit_transform(self, y): fit label encoder and return encoded labels\n",
    "    - get_params(self[, deep]): get parameters for this estimator\n",
    "    - inverse_transform(self, y): transform labels back to original encoding\n",
    "    - set_params(self, \\*\\*params): set the parameters of this estimator\n",
    "    - transform(self, y): transform labels to normalized encoding"
   ]
  },
  {
   "cell_type": "code",
   "execution_count": 20,
   "metadata": {},
   "outputs": [
    {
     "name": "stdout",
     "output_type": "stream",
     "text": [
      "X_train.shape: (6334, 7)\n",
      "X_test.shape: (2715, 7)\n",
      "y_train.shape: (6334,)\n",
      "y_test.shape: (2715,)\n"
     ]
    }
   ],
   "source": [
    "# check shapes to make sure everything matches\n",
    "X_tr_shape = str(X_train.shape)\n",
    "X_ts_shape = str(X_test.shape)\n",
    "y_tr_shape = str(y_train.shape)\n",
    "y_ts_shape = str(y_test.shape)\n",
    "\n",
    "print(\"X_train.shape: \" + X_tr_shape)\n",
    "print(\"X_test.shape: \" + X_ts_shape)\n",
    "print(\"y_train.shape: \" + y_tr_shape)\n",
    "print(\"y_test.shape: \" + y_ts_shape)"
   ]
  },
  {
   "cell_type": "code",
   "execution_count": 21,
   "metadata": {},
   "outputs": [],
   "source": [
    "# fit label encoder and return encoded labels\n",
    "lab_enc = preprocessing.LabelEncoder()\n",
    "y_train = lab_enc.fit_transform(y_train)\n",
    "y_test = lab_enc.fit_transform(y_test)"
   ]
  },
  {
   "cell_type": "markdown",
   "metadata": {},
   "source": [
    "### Apply standard scalar to features"
   ]
  },
  {
   "cell_type": "code",
   "execution_count": 22,
   "metadata": {},
   "outputs": [],
   "source": [
    "# scaler = StandardScaler()\n",
    "# scaler.fit(X_train)\n",
    "\n",
    "# X_train = scaler.transform(X_train)\n",
    "# X_test = scaler.transform(X_test)"
   ]
  },
  {
   "cell_type": "code",
   "execution_count": 23,
   "metadata": {},
   "outputs": [],
   "source": [
    "mmscaler = MinMaxScaler()\n",
    "mmscaler.fit(X_train)\n",
    "\n",
    "X_train = mmscaler.transform(X_train)\n",
    "X_test = mmscaler.transform(X_test)"
   ]
  },
  {
   "cell_type": "markdown",
   "metadata": {},
   "source": [
    "# Fit Model & kFold Cross Validation\n",
    "- https://machinelearningmastery.com/k-fold-cross-validation/\n",
    "- https://scikitlearn.org/stable/modules/generated/sklearn.model_selection.StratifiedKFold.html#sklearn.model_selection.StratifiedKFold"
   ]
  },
  {
   "cell_type": "code",
   "execution_count": 24,
   "metadata": {},
   "outputs": [],
   "source": [
    "# fit the model over a range of k to find the best k values\n",
    "scores = []\n",
    "k_range = range(1,100)\n",
    "\n",
    "for k in k_range:\n",
    "    knn = KNeighborsClassifier(n_neighbors=k)\n",
    "    scores1 = cross_val_score(knn, X_train, y_train.ravel(), cv=10)\n",
    "    knn.fit(X_train, y_train)\n",
    "    y_pred = knn.predict(X_test)\n",
    "    scores.append(metrics.accuracy_score(y_test, y_pred))"
   ]
  },
  {
   "cell_type": "markdown",
   "metadata": {},
   "source": [
    "# Evaluate Model Performace\n",
    "(Accuracy, AUC/ROC, P/R/F1, Feature Performance)\n",
    "- https://machinelearningmastery.com/compare-machine-learning-algorithms-python-scikit-learn/\n",
    "- ‘k’ in KNN is a parameter that refers to the number of nearest neighbours to include in the majority of the voting process."
   ]
  },
  {
   "cell_type": "markdown",
   "metadata": {},
   "source": [
    "### Accuracy"
   ]
  },
  {
   "cell_type": "code",
   "execution_count": 25,
   "metadata": {},
   "outputs": [
    {
     "data": {
      "text/plain": [
       "Text(0, 0.5, 'Model Accuracy')"
      ]
     },
     "execution_count": 25,
     "metadata": {},
     "output_type": "execute_result"
    },
    {
     "data": {
      "image/png": "[encoded data removed]",
      "text/plain": [
       "<Figure size 432x288 with 1 Axes>"
      ]
     },
     "metadata": {
      "needs_background": "light"
     },
     "output_type": "display_data"
    }
   ],
   "source": [
    "plt.plot(k_range, scores)\n",
    "plt.title(\"kNN Accuracy\")\n",
    "plt.xlabel('Value of k for kNN')\n",
    "plt.ylabel('Model Accuracy')"
   ]
  },
  {
   "cell_type": "markdown",
   "metadata": {},
   "source": [
    "### Test Accuracy (f1)"
   ]
  },
  {
   "cell_type": "code",
   "execution_count": 56,
   "metadata": {},
   "outputs": [
    {
     "data": {
      "text/plain": [
       "0.4701633600948864"
      ]
     },
     "execution_count": 56,
     "metadata": {},
     "output_type": "execute_result"
    }
   ],
   "source": [
    "kfold_Value = mean(scores1)\n",
    "kfold_Value"
   ]
  },
  {
   "cell_type": "markdown",
   "metadata": {},
   "source": [
    "### Classification Report"
   ]
  },
  {
   "cell_type": "code",
   "execution_count": 47,
   "metadata": {},
   "outputs": [
    {
     "name": "stdout",
     "output_type": "stream",
     "text": [
      "              precision    recall  f1-score   support\n",
      "\n",
      "           0       0.00      0.00      0.00        23\n",
      "           1       0.00      0.00      0.00        10\n",
      "           2       0.00      0.00      0.00        71\n",
      "           3       0.00      0.00      0.00       215\n",
      "           4       0.36      0.08      0.13       742\n",
      "           5       0.49      0.87      0.63      1250\n",
      "           6       0.43      0.35      0.38       404\n",
      "\n",
      "    accuracy                           0.48      2715\n",
      "   macro avg       0.18      0.19      0.16      2715\n",
      "weighted avg       0.39      0.48      0.38      2715\n",
      "\n"
     ]
    }
   ],
   "source": [
    "print(classification_report(y_test, y_pred))"
   ]
  },
  {
   "cell_type": "markdown",
   "metadata": {},
   "source": [
    "# kNN Summary\n",
    "- Classification accuracy without selecting features: 0.47\n",
    "- Classification accuracy after univariate feature selection: 0.47\n",
    "\n",
    "    - Split Data & Stratify\n",
    "    - Same random seed across all models\n",
    "    - Univariate Feature Selection (age was significant feature)\n",
    "    - Label Encoding on target for classes\n",
    "    - Min/Max Scalar to shape all feature scales to 1\n",
    "    - Iterated to find best kFolds\n",
    "    - Used kFolds to validate accuracy overall accuracy of model"
   ]
  },
  {
   "cell_type": "markdown",
   "metadata": {},
   "source": [
    "# Conclusions\n",
    "- Accuracy of all models were not great because the classes won't separate, artifact of unbalanced data\n",
    "\n",
    "- Future Considerations\n",
    "    - Collect more data by scraping Epicurious\n",
    "    - Evaluate with different metrics: AUC/ROC\n",
    "    - Resample data (trying different ratios of classes to each other, not just 1:1): \n",
    "        - https://github.com/scikit-learn-contrib/imbalanced-learn\n",
    "        - Over-Sampling, Imputing, SMOTE (< 10k records): add copies of instances from the under-represented class\n",
    "        - Under-Sampling: delete instances from the over-represented class\n",
    "        - Stratifying data in different ways\n",
    "    - Try different models (unsupervised learning, kMeans)"
   ]
  }
 ],
 "metadata": {
  "kernelspec": {
   "display_name": "Python 3",
   "language": "python",
   "name": "python3"
  },
  "language_info": {
   "codemirror_mode": {
    "name": "ipython",
    "version": 3
   },
   "file_extension": ".py",
   "mimetype": "text/x-python",
   "name": "python",
   "nbconvert_exporter": "python",
   "pygments_lexer": "ipython3",
   "version": "3.7.3"
  }
 },
 "nbformat": 4,
 "nbformat_minor": 2
}
